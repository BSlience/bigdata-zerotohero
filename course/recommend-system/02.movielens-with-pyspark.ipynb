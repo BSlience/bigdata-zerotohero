{
 "cells": [
  {
   "cell_type": "markdown",
   "metadata": {},
   "source": [
    "# Exploring the MovieLens Dataset with `pySpark`"
   ]
  },
  {
   "cell_type": "markdown",
   "metadata": {},
   "source": [
    "*Apache Spark* is a popular framework for big data. It supports a wide variety of data analytics tasks including data cleaning, stream processing, and machine learning. It can be used to perform large and parallel computations, performing calculations on a single laptop or a cluster of computers. This makes it a useful tool when the data gets too large for `pandas` to handle. Spark can be accessed in Scala, its native API, as well as in Python, Java, R and SQL. In general the `DataFrame` API in Python should achieve the same performance as in Scala. \n",
    "\n",
    "This Jupyter Notebook will demonstrate how to get started using `pySpark` and the `DataFrame` API to perform some basic data analysis, including:\n",
    "- reading in data\n",
    "- performing aggregations and joins using the Spark SQL module\n",
    "- calculating summary statistics\n",
    "\n",
    "We will use the [MovieLens 20M Dataset](https://grouplens.org/datasets/movielens/) on movie ratings to find out:\n",
    "- What are the most popular movies?\n",
    "- What are the top rated movies?\n",
    "- Which movies are the most polarising?\n",
    "\n",
    "**Note**: This Notebook assumes that you have pySpark installed and configured to work with the Jupyter Notebook. The purpose of this Notebook is to demonstrate some basic Spark techniques rather than to provide an installation guide. For information on how to get pySpark running on the Jupyter Notebook, please refer to [this blog post](https://blog.sicara.com/get-started-pyspark-jupyter-guide-tutorial-ae2fe84f594f)."
   ]
  },
  {
   "cell_type": "markdown",
   "metadata": {},
   "source": [
    "## Initialising Spark"
   ]
  },
  {
   "cell_type": "markdown",
   "metadata": {},
   "source": [
    "To use Spark, we must first initialise a `SparkSession`. This is the entry point to using Spark in an application.\n",
    "\n",
    "Depending on how we have configured Spark, we may also need to use the `findspark` package to make the `SparkSession` available. "
   ]
  },
  {
   "cell_type": "code",
   "execution_count": 3,
   "metadata": {
    "tags": []
   },
   "outputs": [],
   "source": [
    "import findspark\n",
    "findspark.init()"
   ]
  },
  {
   "cell_type": "code",
   "execution_count": 4,
   "metadata": {
    "tags": []
   },
   "outputs": [],
   "source": [
    "import pyspark\n",
    "from pyspark.sql import SparkSession\n",
    "spark = SparkSession.builder.appName('MovieLens').getOrCreate()"
   ]
  },
  {
   "cell_type": "markdown",
   "metadata": {},
   "source": [
    "## Reading in the data"
   ]
  },
  {
   "cell_type": "markdown",
   "metadata": {},
   "source": [
    "https://grouplens.org/datasets/movielens/\n",
    "\n",
    "The *MovieLens 20M* Dataset contains 20,000,263 ratings and 465,564 tag applications across 27,278 movies. The dataset was generated in 2016. All users in the dataset rated at least 20 movies. \n",
    "\n",
    "The dataset contains six CSV files. We will be using the **`movies`** and **`ratings`** files. Let's see what these two files look like.\n",
    "\n",
    "To read in a CSV file, we access the `DataFrameReader` class through `read` and then call the `csv()` method on it. We also specify `option(\"header\", \"true\")` so that the first row of the file is used for the column headers. "
   ]
  },
  {
   "cell_type": "code",
   "execution_count": 5,
   "metadata": {},
   "outputs": [
    {
     "name": "stdout",
     "output_type": "stream",
     "text": [
      "+------+-------+------+----------+\n",
      "|userId|movieId|rating| timestamp|\n",
      "+------+-------+------+----------+\n",
      "|     1|    296|     5|1147880044|\n",
      "|     1|    306|     3|1147868817|\n",
      "|     1|    307|     5|1147868828|\n",
      "|     1|    665|     5|1147878820|\n",
      "|     1|    899|     3|1147868510|\n",
      "+------+-------+------+----------+\n",
      "only showing top 5 rows\n",
      "\n"
     ]
    }
   ],
   "source": [
    "from pyspark.sql.types import IntegerType\n",
    "\n",
    "\n",
    "# hadoop fs put \n",
    "ratings = spark.read.option(\"header\", \"true\").csv(\"/dataset/ml-25m/ratings.csv\")\n",
    "ratings = ratings.withColumn(\"rating\", ratings[\"rating\"].cast(IntegerType()))\n",
    "ratings.show(5)"
   ]
  },
  {
   "cell_type": "markdown",
   "metadata": {},
   "source": [
    "Each row of the `ratings` DataFrame represents one rating for one movie (`movieId`) by one user (`userId`). The ratings use a 5-star scale with half-star increments from 0.5 stars up to 5.0 stars. We can print the DataFrame's column names and types using the `printSchema()` method."
   ]
  },
  {
   "cell_type": "code",
   "execution_count": 4,
   "metadata": {},
   "outputs": [
    {
     "name": "stdout",
     "output_type": "stream",
     "text": [
      "root\n",
      " |-- userId: string (nullable = true)\n",
      " |-- movieId: string (nullable = true)\n",
      " |-- rating: integer (nullable = true)\n",
      " |-- timestamp: string (nullable = true)\n",
      "\n"
     ]
    }
   ],
   "source": [
    "ratings.printSchema()"
   ]
  },
  {
   "cell_type": "code",
   "execution_count": 6,
   "metadata": {},
   "outputs": [
    {
     "name": "stdout",
     "output_type": "stream",
     "text": [
      "root\n",
      " |-- movieId: integer (nullable = true)\n",
      " |-- title: string (nullable = true)\n",
      " |-- genres: string (nullable = true)\n",
      "\n",
      "+-------+--------------------+--------------------+\n",
      "|movieId|               title|              genres|\n",
      "+-------+--------------------+--------------------+\n",
      "|      1|    Toy Story (1995)|Adventure|Animati...|\n",
      "|      2|      Jumanji (1995)|Adventure|Childre...|\n",
      "|      3|Grumpier Old Men ...|      Comedy|Romance|\n",
      "|      4|Waiting to Exhale...|Comedy|Drama|Romance|\n",
      "|      5|Father of the Bri...|              Comedy|\n",
      "+-------+--------------------+--------------------+\n",
      "only showing top 5 rows\n",
      "\n"
     ]
    }
   ],
   "source": [
    "from pyspark.sql.types import IntegerType\n",
    "\n",
    "\n",
    "movies = spark.read.option(\"header\", \"true\").csv(\"/dataset/ml-25m/movies.csv\")\n",
    "movies = movies.withColumn(\"movieId\", movies[\"movieId\"].cast(IntegerType()))\n",
    "movies.printSchema()\n",
    "movies.show(5)"
   ]
  },
  {
   "cell_type": "markdown",
   "metadata": {},
   "source": [
    "Each row of the `movies` DataFrame represents one movie and its title and genre(s), indexed by the key `movieId`. We will use this DataFrame to get the movie titles out so we know which movie the ratings in the `ratings` DataFrame are actually referring to. "
   ]
  },
  {
   "cell_type": "markdown",
   "metadata": {},
   "source": [
    "## Most popular movies"
   ]
  },
  {
   "cell_type": "markdown",
   "metadata": {},
   "source": [
    "To get the most popular movies, we are looking for the movies with the highest number of ratings (we use the number of ratings as a proxy for the number of views). To do this, we will perform the following *transformations* on the `ratings` DataFrame: \n",
    "- group by `movieId`\n",
    "- count the number of users (`userId`) associated with each movie \n",
    "- rename this column to `num_ratings`\n",
    "- sort by `num_ratings` in descending order \n",
    "\n",
    "In the next cell, we perform these transformations in `pySpark` and store the DataFrame as `most_popular`."
   ]
  },
  {
   "cell_type": "code",
   "execution_count": 5,
   "metadata": {
    "tags": []
   },
   "outputs": [],
   "source": [
    "from pyspark.sql.functions import *\n",
    "\n",
    "most_popular = ratings\\\n",
    ".groupBy(\"movieId\")\\\n",
    ".agg(count(\"userId\"))\\\n",
    ".withColumnRenamed(\"count(userId)\", \"num_ratings\")\\\n",
    ".sort(desc(\"num_ratings\"))"
   ]
  },
  {
   "cell_type": "markdown",
   "metadata": {},
   "source": [
    "The DataFrame methods we have used here are:\n",
    "- `groupBy` - groups the DataFrame by the given column\n",
    "- `agg` - allows us to perform an aggregate calculation on grouped data (this can be a built-in aggregation function such as *count* or a user defined function)\n",
    "- `withColumnRenamed` - renames an existing column with a new column name\n",
    "- `sort` - sorts by the specified column(s)\n",
    "\n",
    "Because transformations are *lazy* in Spark, the transformations above aren't performed until we call an *action*, such as `show()`, `take()`, or `collect()`."
   ]
  },
  {
   "cell_type": "code",
   "execution_count": 6,
   "metadata": {},
   "outputs": [
    {
     "name": "stdout",
     "output_type": "stream",
     "text": [
      "+-------+-----------+\n",
      "|movieId|num_ratings|\n",
      "+-------+-----------+\n",
      "|    356|      81491|\n",
      "|    318|      81482|\n",
      "|    296|      79672|\n",
      "|    593|      74127|\n",
      "|   2571|      72674|\n",
      "|    260|      68717|\n",
      "|    480|      64144|\n",
      "|    527|      60411|\n",
      "|    110|      59184|\n",
      "|   2959|      58773|\n",
      "+-------+-----------+\n",
      "only showing top 10 rows\n",
      "\n"
     ]
    }
   ],
   "source": [
    "most_popular.show(10)"
   ]
  },
  {
   "cell_type": "markdown",
   "metadata": {},
   "source": [
    "This DataFrame contains only the `movieId` and `num_ratings`. The actual title of the movie is stored in the `movies` DataFrame. To get the movie titles, we can join our `most_popular` DataFrame with the `movies` DataFrame on `movieId`. By default, `join` performs an inner join which is what we want in this case."
   ]
  },
  {
   "cell_type": "code",
   "execution_count": 9,
   "metadata": {},
   "outputs": [
    {
     "name": "stdout",
     "output_type": "stream",
     "text": [
      "+-------+-----------+-------+-----------------------------------------+-------------------------------------------+\n",
      "|movieId|num_ratings|movieId|title                                    |genres                                     |\n",
      "+-------+-----------+-------+-----------------------------------------+-------------------------------------------+\n",
      "|296    |79672      |296    |Pulp Fiction (1994)                      |Comedy|Crime|Drama|Thriller                |\n",
      "|2294   |10937      |2294   |Antz (1998)                              |Adventure|Animation|Children|Comedy|Fantasy|\n",
      "|48738  |5741       |48738  |Last King of Scotland, The (2006)        |Drama|Thriller                             |\n",
      "|88140  |8774       |88140  |Captain America: The First Avenger (2011)|Action|Adventure|Sci-Fi|Thriller|War       |\n",
      "|115713 |12547      |115713 |Ex Machina (2015)                        |Drama|Sci-Fi|Thriller                      |\n",
      "|1090   |16796      |1090   |Platoon (1986)                           |Drama|War                                  |\n",
      "|3210   |8110       |3210   |Fast Times at Ridgemont High (1982)      |Comedy|Drama|Romance                       |\n",
      "|3959   |2785       |3959   |Time Machine, The (1960)                 |Action|Adventure|Sci-Fi                    |\n",
      "|27317  |1600       |27317  |Audition (Ôdishon) (1999)                |Drama|Horror|Mystery|Romance|Thriller      |\n",
      "|50802  |576        |50802  |Because I Said So (2007)                 |Comedy|Drama|Romance                       |\n",
      "|2069   |1029       |2069   |Trip to Bountiful, The (1985)            |Drama                                      |\n",
      "|2136   |2654       |2136   |Nutty Professor, The (1963)              |Comedy|Sci-Fi                              |\n",
      "|89864  |4837       |89864  |50/50 (2011)                             |Comedy|Drama                               |\n",
      "|675    |26         |675    |Hostile Intentions (1994)                |Action|Drama|Thriller                      |\n",
      "|62912  |611        |62912  |High School Musical 3: Senior Year (2008)|Musical                                    |\n",
      "|119655 |424        |119655 |Seventh Son (2014)                       |Adventure|Children|Fantasy                 |\n",
      "|2088   |3339       |2088   |Popeye (1980)                            |Adventure|Comedy|Musical                   |\n",
      "|691    |1110       |691    |Mrs. Winterbourne (1996)                 |Comedy|Romance                             |\n",
      "|5325   |995        |5325   |Dogtown and Z-Boyz (2001)                |Documentary                                |\n",
      "|4821   |1297       |4821   |Joy Ride (2001)                          |Adventure|Thriller                         |\n",
      "+-------+-----------+-------+-----------------------------------------+-------------------------------------------+\n",
      "only showing top 20 rows\n",
      "\n"
     ]
    }
   ],
   "source": [
    "most_popular_movies = most_popular.join(movies, most_popular.movieId == movies.movieId)\n",
    "most_popular_movies.show(20, truncate=False)"
   ]
  },
  {
   "cell_type": "markdown",
   "metadata": {},
   "source": [
    "We now have a list of the most popular (or most rated) movies on the *MovieLens* website. As expected, the titles listed here are indeed all well-known movies."
   ]
  },
  {
   "cell_type": "markdown",
   "metadata": {},
   "source": [
    "## Top rated movies"
   ]
  },
  {
   "cell_type": "markdown",
   "metadata": {},
   "source": [
    "We've got the top 10 most popular movies, but now we want to see which movies are perceived to be the best. To get the top rated movies, we are looking for the movies with the highest average rating. To do this, we will use the `ratings` DataFrame and: \n",
    "\n",
    "- group by `movieId` \n",
    "- calculate the average rating for each movie\n",
    "- rename this column to `avg_rating`\n",
    "- sort by `avg_rating` in descending order "
   ]
  },
  {
   "cell_type": "code",
   "execution_count": 10,
   "metadata": {
    "tags": []
   },
   "outputs": [],
   "source": [
    "top_rated = ratings\\\n",
    ".groupBy(\"movieId\")\\\n",
    ".agg(avg(col(\"rating\")))\\\n",
    ".withColumnRenamed(\"avg(rating)\", \"avg_rating\")\\\n",
    ".sort(desc(\"avg_rating\"))"
   ]
  },
  {
   "cell_type": "markdown",
   "metadata": {},
   "source": [
    "We will again join this DataFrame with the `movies` DataFrame so we know which movie each `movieId` is referring to."
   ]
  },
  {
   "cell_type": "code",
   "execution_count": 11,
   "metadata": {},
   "outputs": [
    {
     "name": "stdout",
     "output_type": "stream",
     "text": [
      "+-------+------------------+-------+--------------------+--------------------+\n",
      "|movieId|        avg_rating|movieId|               title|              genres|\n",
      "+-------+------------------+-------+--------------------+--------------------+\n",
      "|    296|4.0839190681795365|    296| Pulp Fiction (1994)|Comedy|Crime|Dram...|\n",
      "|   2294|3.0863125171436407|   2294|         Antz (1998)|Adventure|Animati...|\n",
      "|  48738|3.6237589270161994|  48738|Last King of Scot...|      Drama|Thriller|\n",
      "|  88140|3.3168452245270115|  88140|Captain America: ...|Action|Adventure|...|\n",
      "| 115713|3.7710209611859407| 115713|   Ex Machina (2015)|Drama|Sci-Fi|Thri...|\n",
      "|   1090| 3.778161467015956|   1090|      Platoon (1986)|           Drama|War|\n",
      "|   3210| 3.525030826140567|   3210|Fast Times at Rid...|Comedy|Drama|Romance|\n",
      "|   3959|3.5676840215439856|   3959|Time Machine, The...|Action|Adventure|...|\n",
      "|  27317|          3.379375|  27317|Audition (Ôdishon...|Drama|Horror|Myst...|\n",
      "|  50802|2.7274305555555554|  50802|Because I Said So...|Comedy|Drama|Romance|\n",
      "+-------+------------------+-------+--------------------+--------------------+\n",
      "only showing top 10 rows\n",
      "\n"
     ]
    }
   ],
   "source": [
    "top_rated_movies = top_rated.join(movies, top_rated.movieId == movies.movieId)\n",
    "top_rated_movies.show(10)"
   ]
  },
  {
   "cell_type": "markdown",
   "metadata": {},
   "source": [
    "The movies listed here appear to be quite niche. We want to focus on top rated movies that also have a decent number of ratings, so want to take into account both the average rating *and* the number of ratings. We can easily create a DataFrame which has both of these columns by specifying multiple expressions within one `agg()` call. "
   ]
  },
  {
   "cell_type": "code",
   "execution_count": 12,
   "metadata": {
    "tags": []
   },
   "outputs": [],
   "source": [
    "top_rated = ratings\\\n",
    ".groupBy(\"movieId\")\\\n",
    ".agg(count(\"userId\"), avg(col(\"rating\")))\\\n",
    ".withColumnRenamed(\"count(userId)\", \"num_ratings\")\\\n",
    ".withColumnRenamed(\"avg(rating)\", \"avg_rating\")"
   ]
  },
  {
   "cell_type": "code",
   "execution_count": 13,
   "metadata": {},
   "outputs": [
    {
     "name": "stdout",
     "output_type": "stream",
     "text": [
      "+-------+-----------+----------+-------+--------------------+--------------------+\n",
      "|movieId|num_ratings|avg_rating|movieId|               title|              genres|\n",
      "+-------+-----------+----------+-------+--------------------+--------------------+\n",
      "| 165787|          3|       5.0| 165787|Lonesome Dove Chu...|             Western|\n",
      "| 179731|          3|       5.0| 179731|Sound of Christma...|               Drama|\n",
      "| 148298|          3|       5.0| 148298|       Awaken (2013)|Drama|Romance|Sci-Fi|\n",
      "| 118268|          3|       5.0| 118268|Borrowed Time (2012)|               Drama|\n",
      "| 178147|          2|       5.0| 178147|Beatles Stories (...|         Documentary|\n",
      "| 148114|          2|       5.0| 148114|The Ties That Bin...|  (no genres listed)|\n",
      "| 169818|          2|       5.0| 169818|FB: Fighting Beat...|              Action|\n",
      "| 208477|          2|       5.0| 208477|       Kaithi (2019)|     Action|Thriller|\n",
      "| 179589|          2|       5.0| 179589|  Windstorm 2 (2015)|Adventure|Childre...|\n",
      "| 161944|          2|       5.0| 161944|The Last Brickmak...|               Drama|\n",
      "+-------+-----------+----------+-------+--------------------+--------------------+\n",
      "only showing top 10 rows\n",
      "\n"
     ]
    }
   ],
   "source": [
    "top_rated_movies = top_rated.join(movies, top_rated.movieId == movies.movieId).sort(desc(\"avg_rating\"), desc(\"num_ratings\"))\n",
    "top_rated_movies.show(10)"
   ]
  },
  {
   "cell_type": "markdown",
   "metadata": {},
   "source": [
    "We see that all of the movies with an average rating of exactly 5.0 have 2 or less ratings. We would like to only consider movies that have achieved some minimum number of ratings. To determine an appropriate threshold, we should investigate the distribution of `num_ratings`. We can do this by calculating some summary statistics within Spark."
   ]
  },
  {
   "cell_type": "code",
   "execution_count": 14,
   "metadata": {},
   "outputs": [
    {
     "name": "stdout",
     "output_type": "stream",
     "text": [
      "+-----------------+----------------+----------------+\n",
      "| avg(num_ratings)|min(num_ratings)|max(num_ratings)|\n",
      "+-----------------+----------------+----------------+\n",
      "|423.3931444442563|               1|           81491|\n",
      "+-----------------+----------------+----------------+\n",
      "\n"
     ]
    }
   ],
   "source": [
    "# Calculate average, minimum, and maximum of num_ratings\n",
    "top_rated_movies.select([mean('num_ratings'), min('num_ratings'), max('num_ratings')]).show(1)"
   ]
  },
  {
   "cell_type": "markdown",
   "metadata": {},
   "source": [
    "To calculate quantiles we use the `approxQuantile` method. This method can calculate the quantiles of the specified column approximately or exactly, depending on the value of the relative error parameter. If the relative error parameter is set to 0 then the quantiles are calculated exactly, however this can be expensive. "
   ]
  },
  {
   "cell_type": "code",
   "execution_count": 15,
   "metadata": {},
   "outputs": [
    {
     "data": {
      "text/plain": [
       "[6.0]"
      ]
     },
     "execution_count": 15,
     "metadata": {},
     "output_type": "execute_result"
    }
   ],
   "source": [
    "# median\n",
    "top_rated_movies.approxQuantile('num_ratings', [0.5], 0)"
   ]
  },
  {
   "cell_type": "code",
   "execution_count": 16,
   "metadata": {},
   "outputs": [
    {
     "data": {
      "text/plain": [
       "[2.0]"
      ]
     },
     "execution_count": 16,
     "metadata": {},
     "output_type": "execute_result"
    }
   ],
   "source": [
    "# first quartile\n",
    "top_rated_movies.approxQuantile('num_ratings', [0.25], 0)"
   ]
  },
  {
   "cell_type": "code",
   "execution_count": 17,
   "metadata": {},
   "outputs": [
    {
     "data": {
      "text/plain": [
       "[36.0]"
      ]
     },
     "execution_count": 17,
     "metadata": {},
     "output_type": "execute_result"
    }
   ],
   "source": [
    "# third quartile\n",
    "top_rated_movies.approxQuantile('num_ratings', [0.75], 0)"
   ]
  },
  {
   "cell_type": "markdown",
   "metadata": {},
   "source": [
    "The mean is much greater than the median value, suggesting that this distribution is skewed to the right. We will choose a minimum threshold of 500 ratings, however there is no right or wrong answer here and the reader is encouraged to experiment with different values for this threshold."
   ]
  },
  {
   "cell_type": "code",
   "execution_count": 18,
   "metadata": {},
   "outputs": [
    {
     "name": "stdout",
     "output_type": "stream",
     "text": [
      "+-------+-----------+------------------+-------+---------------------------------------------------------------------------+---------------------------+\n",
      "|movieId|num_ratings|avg_rating        |movieId|title                                                                      |genres                     |\n",
      "+-------+-----------+------------------+-------+---------------------------------------------------------------------------+---------------------------+\n",
      "|171011 |1124       |4.483096085409253 |171011 |Planet Earth II (2016)                                                     |Documentary                |\n",
      "|159817 |1747       |4.464796794504865 |159817 |Planet Earth (2006)                                                        |Documentary                |\n",
      "|318    |81482      |4.413576004516335 |318    |Shawshank Redemption, The (1994)                                           |Crime|Drama                |\n",
      "|170705 |1356       |4.398598820058997 |170705 |Band of Brothers (2001)                                                    |Action|Drama|War           |\n",
      "|858    |52498      |4.324336165187245 |858    |Godfather, The (1972)                                                      |Crime|Drama                |\n",
      "|179135 |659        |4.289833080424886 |179135 |Blue Planet II (2017)                                                      |Documentary                |\n",
      "|50     |55366      |4.284353213163313 |50     |Usual Suspects, The (1995)                                                 |Crime|Mystery|Thriller     |\n",
      "|1221   |34188      |4.2617585117585115|1221   |Godfather: Part II, The (1974)                                             |Crime|Drama                |\n",
      "|163809 |546        |4.258241758241758 |163809 |Over the Garden Wall (2013)                                                |Adventure|Animation|Drama  |\n",
      "|2019   |13367      |4.25476920775043  |2019   |Seven Samurai (Shichinin no samurai) (1954)                                |Action|Adventure|Drama     |\n",
      "|142115 |564        |4.24822695035461  |142115 |The Blue Planet (2001)                                                     |Documentary                |\n",
      "|527    |60411      |4.247579083279535 |527    |Schindler's List (1993)                                                    |Drama|War                  |\n",
      "|1203   |16569      |4.243014062405697 |1203   |12 Angry Men (1957)                                                        |Drama                      |\n",
      "|904    |20162      |4.237947624243627 |904    |Rear Window (1954)                                                         |Mystery|Thriller           |\n",
      "|2959   |58773      |4.228310618821568 |2959   |Fight Club (1999)                                                          |Action|Crime|Drama|Thriller|\n",
      "|1193   |36058      |4.2186616007543405|1193   |One Flew Over the Cuckoo's Nest (1975)                                     |Drama                      |\n",
      "|750    |26714      |4.215804447106386 |750    |Dr. Strangelove or: How I Learned to Stop Worrying and Love the Bomb (1964)|Comedy|War                 |\n",
      "|5618   |22719      |4.212267265284564 |5618   |Spirited Away (Sen to Chihiro no kamikakushi) (2001)                       |Adventure|Animation|Fantasy|\n",
      "|166024 |1030       |4.210194174757282 |166024 |Whiplash (2013)                                                            |(no genres listed)         |\n",
      "|912    |26890      |4.206563778356267 |912    |Casablanca (1942)                                                          |Drama|Romance              |\n",
      "+-------+-----------+------------------+-------+---------------------------------------------------------------------------+---------------------------+\n",
      "only showing top 20 rows\n",
      "\n"
     ]
    }
   ],
   "source": [
    "top_rated_movies.where(\"num_ratings > 500\").show(20, truncate=False)"
   ]
  },
  {
   "cell_type": "markdown",
   "metadata": {},
   "source": [
    "We've now gotten a list of the top rated movies on MovieLens, which includes the usual movies considered to be all time greats such as *The Shawshank Redemption* and *Casablanca*. Interestingly, nearly all of these movies appear in the [top 100 of the IMDb top rated movies list](https://www.imdb.com/chart/top) as well, with the exception of the *The Third Man* (listed as #135) and *Band of Brothers* which is technically a TV series rather than a movie.\n",
    "\n",
    "What's also interesting is that this list of movies is not the same as the list of the most popular movies. *The Shawshank Redemption*, *Schindler's List*, and *The Usual Suspects* were all popular movies which also appear in this list. However, other movies such as *Pulp Fiction*, *Forrest Gump*, and *The Silence of the Lambs* made the top 10 most popular but not the top 10 (or even top 20) most rated. This suggests that some movies actually divide opinion."
   ]
  },
  {
   "cell_type": "markdown",
   "metadata": {},
   "source": [
    "## Most polarising movies (Marmite movies)"
   ]
  },
  {
   "cell_type": "markdown",
   "metadata": {},
   "source": [
    "Next, we will try to answer the question, *What are the most polarising movies*? These are the movies that divide opinon, with people tending to rate them either really highly or really poorly. We will refer to these as *Marmite* movies. Again, we only want to consider movies that achieve some minimum number of ratings - we will stick with our previous threshold of 500 ratings. \n",
    "\n",
    "To approach this, we will look for the movies with the highest standard deviation in rating. This is a measure of how much the data varies from the mean, so in this case, how much a movie's ratings vary around its mean rating. A high standard deviation would suggest that the movie's ratings are highly variable. There are other approaches to this as well, for instance, what proportion of the ratings are very positive or very negative."
   ]
  },
  {
   "cell_type": "code",
   "execution_count": 19,
   "metadata": {
    "tags": []
   },
   "outputs": [],
   "source": [
    "ratings_stddev = ratings\\\n",
    ".groupBy(\"movieId\")\\\n",
    ".agg(count(\"userId\").alias(\"num_ratings\"), \n",
    "     avg(col(\"rating\")).alias(\"avg_rating\"),\n",
    "     stddev(col(\"rating\")).alias(\"std_rating\")\n",
    "    )\\\n",
    ".where(\"num_ratings > 500\")"
   ]
  },
  {
   "cell_type": "code",
   "execution_count": 19,
   "metadata": {},
   "outputs": [
    {
     "name": "stdout",
     "output_type": "stream",
     "text": [
      "+-------+-----------+------------------+------------------+\n",
      "|movieId|num_ratings|        avg_rating|        std_rating|\n",
      "+-------+-----------+------------------+------------------+\n",
      "|    296|      67310| 4.174231169217055|0.9760762295742448|\n",
      "|   1090|      15808| 3.919977226720648|0.8272067263021856|\n",
      "|   3959|       2869| 3.699372603694667|0.8607671626686735|\n",
      "|   2294|      10163| 3.303207714257601|0.9047000233824075|\n",
      "|   6731|       1173|3.5571184995737424|0.9189292350434509|\n",
      "+-------+-----------+------------------+------------------+\n",
      "only showing top 5 rows\n",
      "\n"
     ]
    }
   ],
   "source": [
    "ratings_stddev.show(5)"
   ]
  },
  {
   "cell_type": "code",
   "execution_count": 20,
   "metadata": {
    "collapsed": true,
    "jupyter": {
     "outputs_hidden": true
    }
   },
   "outputs": [],
   "source": [
    "marmite_movies = ratings_stddev.join(movies, ratings_stddev.movieId == movies.movieId)"
   ]
  },
  {
   "cell_type": "code",
   "execution_count": 22,
   "metadata": {
    "scrolled": true
   },
   "outputs": [
    {
     "name": "stdout",
     "output_type": "stream",
     "text": [
      "+-------+-----------+------------------+------------------+-------+----------------------------------------------------------------------------+-------------------------------------+\n",
      "|movieId|num_ratings|avg_rating        |std_rating        |movieId|title                                                                       |genres                               |\n",
      "+-------+-----------+------------------+------------------+-------+----------------------------------------------------------------------------+-------------------------------------+\n",
      "|27899  |579        |2.8860103626943006|1.4221290413577283|27899  |What the #$*! Do We Know!? (a.k.a. What the Bleep Do We Know!?) (2004)      |Comedy|Documentary|Drama             |\n",
      "|1924   |2304       |2.6319444444444446|1.4201711823223824|1924   |Plan 9 from Outer Space (1959)                                              |Horror|Sci-Fi                        |\n",
      "|91104  |516        |2.4728682170542635|1.353614474548174 |91104  |Twilight Saga: Breaking Dawn - Part 1, The (2011)                           |Adventure|Drama|Fantasy|Romance      |\n",
      "|4255   |1550       |2.1351612903225807|1.3504497277537109|4255   |Freddy Got Fingered (2001)                                                  |Comedy                               |\n",
      "|78772  |884        |2.670814479638009 |1.3485057430514158|78772  |Twilight Saga: Eclipse, The (2010)                                          |Fantasy|Romance|Thriller|IMAX        |\n",
      "|72407  |1135       |2.565638766519824 |1.336754840108039 |72407  |Twilight Saga: New Moon, The (2009)                                         |Drama|Fantasy|Horror|Romance|Thriller|\n",
      "|7318   |3130       |3.185623003194888 |1.3354273707057582|7318   |Passion of the Christ, The (2004)                                           |Drama                                |\n",
      "|63992  |2156       |2.74652133580705  |1.322607968218707 |63992  |Twilight (2008)                                                             |Drama|Fantasy|Romance|Thriller       |\n",
      "|1105   |922        |2.3345986984815617|1.3217574182346987|1105   |Children of the Corn IV: The Gathering (1996)                               |Horror                               |\n",
      "|747    |1084       |2.3325645756457565|1.3141605603130373|747    |Stupids, The (1996)                                                         |Comedy                               |\n",
      "|50189  |643        |2.5536547433903576|1.3139551191220458|50189  |American Pie Presents The Naked Mile (American Pie 5: The Naked Mile) (2006)|Comedy|Romance                       |\n",
      "|166    |650        |2.787692307692308 |1.305553822503628 |166    |Doom Generation, The (1995)                                                 |Comedy|Crime|Drama                   |\n",
      "|6005   |591        |3.3096446700507616|1.3047079193760418|6005   |Blue Collar Comedy Tour: The Movie (2003)                                   |Comedy|Documentary                   |\n",
      "|8531   |1177       |2.3343245539507222|1.2991013665459505|8531   |White Chicks (2004)                                                         |Action|Comedy|Crime                  |\n",
      "|5047   |1305       |2.7203065134099615|1.2916116452609898|5047   |Kung Pow: Enter the Fist (2002)                                             |Action|Comedy                        |\n",
      "+-------+-----------+------------------+------------------+-------+----------------------------------------------------------------------------+-------------------------------------+\n",
      "only showing top 15 rows\n",
      "\n"
     ]
    }
   ],
   "source": [
    "marmite_movies.sort(desc(\"std_rating\")).show(15, truncate=False)"
   ]
  },
  {
   "cell_type": "markdown",
   "metadata": {},
   "source": [
    "We see that the list of polarising movies includes the *Twilight* movies, the controversial *Passion of the Christ*, and the cult low-budget science fiction movie *Plan 9 from Outer Space*."
   ]
  },
  {
   "cell_type": "markdown",
   "metadata": {},
   "source": [
    "## One-hot \n",
    "\n",
    "[Spark API](https://spark.apache.org/docs/latest/api/python/reference/api/pyspark.ml.feature.OneHotEncoder.html)"
   ]
  },
  {
   "cell_type": "code",
   "execution_count": 8,
   "metadata": {},
   "outputs": [],
   "source": [
    "# 为了能够让 python 找到 pyspark，使用 findspark\n",
    "import findspark\n",
    "findspark.init()\n",
    "\n",
    "# 为了使用 RDDs，创建 SparkSession\n",
    "from pyspark.sql import SparkSession\n",
    "from pyspark.conf import SparkConf\n",
    "\n",
    "# 创建 SparkConf 和 SparkSession\n",
    "conf=SparkConf()\\\n",
    "        .setMaster('local[*]')\\\n",
    "        .setAppName(\"Spark Read Hive\")\\\n",
    "        .setExecutorEnv(\"spark.executor.memory\",\"4g\")\\\n",
    "        .setExecutorEnv(\"spark.driver.memory\",\"4g\")\n",
    "\n",
    "spark=SparkSession.builder\\\n",
    "        .config(conf=conf)\\\n",
    "        .enableHiveSupport()\\\n",
    "        .getOrCreate()"
   ]
  },
  {
   "cell_type": "code",
   "execution_count": 10,
   "metadata": {},
   "outputs": [
    {
     "data": {
      "text/plain": [
       "[Row(movieId=1, title='Toy Story (1995)', genres='Adventure|Animation|Children|Comedy|Fantasy'),\n",
       " Row(movieId=2, title='Jumanji (1995)', genres='Adventure|Children|Fantasy'),\n",
       " Row(movieId=3, title='Grumpier Old Men (1995)', genres='Comedy|Romance'),\n",
       " Row(movieId=4, title='Waiting to Exhale (1995)', genres='Comedy|Drama|Romance'),\n",
       " Row(movieId=5, title='Father of the Bride Part II (1995)', genres='Comedy'),\n",
       " Row(movieId=6, title='Heat (1995)', genres='Action|Crime|Thriller'),\n",
       " Row(movieId=7, title='Sabrina (1995)', genres='Comedy|Romance'),\n",
       " Row(movieId=8, title='Tom and Huck (1995)', genres='Adventure|Children'),\n",
       " Row(movieId=9, title='Sudden Death (1995)', genres='Action'),\n",
       " Row(movieId=10, title='GoldenEye (1995)', genres='Action|Adventure|Thriller')]"
      ]
     },
     "execution_count": 10,
     "metadata": {},
     "output_type": "execute_result"
    }
   ],
   "source": [
    "movies.head(10)"
   ]
  },
  {
   "cell_type": "code",
   "execution_count": 11,
   "metadata": {},
   "outputs": [
    {
     "name": "stdout",
     "output_type": "stream",
     "text": [
      "+-------+--------------------+--------------------+-------------------+\n",
      "|movieId|               title|              genres|      movieIdVector|\n",
      "+-------+--------------------+--------------------+-------------------+\n",
      "|      1|    Toy Story (1995)|Adventure|Animati...| (209171,[1],[1.0])|\n",
      "|      2|      Jumanji (1995)|Adventure|Childre...| (209171,[2],[1.0])|\n",
      "|      3|Grumpier Old Men ...|      Comedy|Romance| (209171,[3],[1.0])|\n",
      "|      4|Waiting to Exhale...|Comedy|Drama|Romance| (209171,[4],[1.0])|\n",
      "|      5|Father of the Bri...|              Comedy| (209171,[5],[1.0])|\n",
      "|      6|         Heat (1995)|Action|Crime|Thri...| (209171,[6],[1.0])|\n",
      "|      7|      Sabrina (1995)|      Comedy|Romance| (209171,[7],[1.0])|\n",
      "|      8| Tom and Huck (1995)|  Adventure|Children| (209171,[8],[1.0])|\n",
      "|      9| Sudden Death (1995)|              Action| (209171,[9],[1.0])|\n",
      "|     10|    GoldenEye (1995)|Action|Adventure|...|(209171,[10],[1.0])|\n",
      "+-------+--------------------+--------------------+-------------------+\n",
      "only showing top 10 rows\n",
      "\n"
     ]
    }
   ],
   "source": [
    "from pyspark.ml.feature import OneHotEncoder\n",
    "\n",
    "\n",
    "encoder = OneHotEncoder(inputCols=[\"movieId\"],\n",
    "                        outputCols=[\"movieIdVector\"])\n",
    "model = encoder.fit(movies)\n",
    "encoded = model.transform(movies)\n",
    "encoded.show(10)"
   ]
  },
  {
   "cell_type": "markdown",
   "metadata": {},
   "source": [
    "## 数值型特征的处理 - 分桶\n",
    "\n",
    "[分桶 API](https://spark.apache.org/docs/latest/ml-features#quantilediscretizer)\n",
    "\n",
    "![5675f0777bd9275b5cdd8aa166cebd4e.jpeg](assets/5675f0777bd9275b5cdd8aa166cebd4e.jpeg)"
   ]
  },
  {
   "cell_type": "code",
   "execution_count": 12,
   "metadata": {},
   "outputs": [],
   "source": [
    "from pyspark.sql.functions import *\n",
    "\n",
    "\n",
    "# 利用打分表ratings计算电影的平均分、被打分次数等数值型特征\n",
    "ratings_features = ratings.groupBy(col(\"movieId\")).agg(count(lit(1)), avg(col(\"rating\")), variance(col(\"rating\")))\n",
    "ratings_features = ratings_features.withColumnRenamed('count(1)', 'ratingCount').withColumnRenamed('avg(rating)', 'avgRating').withColumnRenamed('var_samp(rating)', 'ratingVar')"
   ]
  },
  {
   "cell_type": "code",
   "execution_count": 15,
   "metadata": {},
   "outputs": [],
   "source": [
    "from pyspark.ml.feature import QuantileDiscretizer\n",
    "\n",
    "\n",
    "# 分桶处理，创建QuantileDiscretizer进行分桶，将打分次数这一特征分到100个桶中\n",
    "discretizer = QuantileDiscretizer(numBuckets=100, inputCol=\"ratingCount\", outputCol=\"ratingCountBucket\")"
   ]
  },
  {
   "cell_type": "code",
   "execution_count": 16,
   "metadata": {},
   "outputs": [],
   "source": [
    "from pyspark.ml.feature import MinMaxScaler\n",
    "\n",
    "\n",
    "# 归一化处理，创建MinMaxScaler进行归一化，将平均得分进行归一化\n",
    "scaler = MinMaxScaler(inputCol=\"avgRating\", outputCol=\"scaledFeatures\")"
   ]
  },
  {
   "cell_type": "code",
   "execution_count": 17,
   "metadata": {},
   "outputs": [
    {
     "name": "stdout",
     "output_type": "stream",
     "text": [
      "+-------+-----------+------------------+------------------+-----------------+\n",
      "|movieId|ratingCount|         avgRating|         ratingVar|ratingCountBucket|\n",
      "+-------+-----------+------------------+------------------+-----------------+\n",
      "|    296|      79672|4.0839190681795365|1.0065760077085952|             48.0|\n",
      "|   2294|      10937|3.0863125171436407|1.0113863372180323|             48.0|\n",
      "|  48738|       5741|3.6237589270161994|0.6037141606890231|             47.0|\n",
      "|  88140|       8774|3.3168452245270115|1.1377146102604472|             47.0|\n",
      "| 115713|      12547|3.7710209611859407|0.8280841082007967|             48.0|\n",
      "|   1090|      16796| 3.778161467015956|0.7719815198631416|             48.0|\n",
      "|   3210|       8110| 3.525030826140567|0.9390083539639243|             47.0|\n",
      "|   3959|       2785|3.5676840215439856| 0.828840359891867|             45.0|\n",
      "|  27317|       1600|          3.379375|1.0060784083802372|             44.0|\n",
      "|  50802|        576|2.7274305555555554| 1.436881038647343|             40.0|\n",
      "+-------+-----------+------------------+------------------+-----------------+\n",
      "only showing top 10 rows\n",
      "\n"
     ]
    }
   ],
   "source": [
    "discretizer.fit(ratings_features).transform(ratings_features).show(10)"
   ]
  },
  {
   "cell_type": "markdown",
   "metadata": {},
   "source": [
    "[Spark MLib 文档](https://spark.apache.org/docs/latest/ml-features#minmaxscaler)"
   ]
  },
  {
   "cell_type": "markdown",
   "metadata": {},
   "source": [
    "## Conclusion"
   ]
  },
  {
   "cell_type": "markdown",
   "metadata": {},
   "source": [
    "This tutorial has demonstrated how to use the `pySpark DataFrame` API to perform some simple data analysis tasks. In particular, we have seen how to perform aggregations, joins, and compute summary statistics on large datasets. There is a lot more that could be done with this dataset, including investigating other ways to identify polarising movies, looking at the effect of movie genres, and building a recommender system. Note that when working in `pySpark`, it may useful to refer back to the [official pySpark documentation](https://spark.apache.org/docs/latest/api/python/pyspark.html). "
   ]
  }
 ],
 "metadata": {
  "anaconda-cloud": {},
  "kernelspec": {
   "display_name": "Python 3",
   "language": "python",
   "name": "python3"
  },
  "language_info": {
   "codemirror_mode": {
    "name": "ipython",
    "version": 3
   },
   "file_extension": ".py",
   "mimetype": "text/x-python",
   "name": "python",
   "nbconvert_exporter": "python",
   "pygments_lexer": "ipython3",
   "version": "3.8.5"
  },
  "toc": {
   "base_numbering": 1,
   "nav_menu": {
    "height": "238px",
    "width": "412px"
   },
   "number_sections": true,
   "sideBar": true,
   "skip_h1_title": false,
   "title_cell": "Table of Contents",
   "title_sidebar": "Contents",
   "toc_cell": false,
   "toc_position": {},
   "toc_section_display": true,
   "toc_window_display": false
  }
 },
 "nbformat": 4,
 "nbformat_minor": 4
}
