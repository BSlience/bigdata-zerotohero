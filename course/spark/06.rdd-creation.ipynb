{
 "cells": [
  {
   "cell_type": "code",
   "execution_count": 1,
   "id": "reflected-defense",
   "metadata": {},
   "outputs": [],
   "source": [
    "# 为了能够让 python 找到 pyspark，使用 findspark\n",
    "import findspark\n",
    "findspark.init()\n",
    "\n",
    "# 为了使用 RDDs，创建 SparkSession\n",
    "from pyspark.sql import SparkSession\n",
    "from pyspark.conf import SparkConf\n",
    "\n",
    "# 创建 SparkConf 和 SparkSession\n",
    "conf=SparkConf()\\\n",
    "        .setMaster('local[*]')\\\n",
    "        .setAppName(\"~\")\\\n",
    "        .setExecutorEnv(\"spark.executor.memory\",\"2g\")\\\n",
    "        .setExecutorEnv(\"spark.driver.memory\",\"2g\")\n",
    "\n",
    "spark=SparkSession.builder\\\n",
    "        .config(conf=conf)\\\n",
    "        .getOrCreate()\n",
    "\n",
    "# 获取 SparkContext\n",
    "sc=spark.sparkContext"
   ]
  },
  {
   "cell_type": "code",
   "execution_count": 2,
   "id": "mineral-landing",
   "metadata": {},
   "outputs": [
    {
     "data": {
      "text/html": [
       "\n",
       "        <div>\n",
       "            <p><b>SparkContext</b></p>\n",
       "\n",
       "            <p><a href=\"http://bigdata-node1:4044\">Spark UI</a></p>\n",
       "\n",
       "            <dl>\n",
       "              <dt>Version</dt>\n",
       "                <dd><code>v3.0.1</code></dd>\n",
       "              <dt>Master</dt>\n",
       "                <dd><code>local[*]</code></dd>\n",
       "              <dt>AppName</dt>\n",
       "                <dd><code>~</code></dd>\n",
       "            </dl>\n",
       "        </div>\n",
       "        "
      ],
      "text/plain": [
       "<SparkContext master=local[*] appName=~>"
      ]
     },
     "execution_count": 2,
     "metadata": {},
     "output_type": "execute_result"
    }
   ],
   "source": [
    "sc"
   ]
  },
  {
   "cell_type": "markdown",
   "id": "innovative-break",
   "metadata": {},
   "source": [
    "### RDD 创建\n",
    "\n",
    "在 Spark 中创建 RDD 的创建方式可以分为四种:"
   ]
  },
  {
   "cell_type": "code",
   "execution_count": 5,
   "id": "moved-remainder",
   "metadata": {},
   "outputs": [
    {
     "data": {
      "text/plain": [
       "ParallelCollectionRDD[1] at readRDDFromFile at PythonRDD.scala:262"
      ]
     },
     "execution_count": 5,
     "metadata": {},
     "output_type": "execute_result"
    }
   ],
   "source": [
    "# ①\n",
    "# 从集合(内存)中创建 RDD\n",
    "d = [1, 2,3,4]\n",
    "rdd1 = sc.parallelize(d)\n",
    "rdd1"
   ]
  },
  {
   "cell_type": "code",
   "execution_count": 6,
   "id": "pediatric-finnish",
   "metadata": {},
   "outputs": [
    {
     "data": {
      "text/plain": [
       "[1, 2, 3, 4]"
      ]
     },
     "execution_count": 6,
     "metadata": {},
     "output_type": "execute_result"
    }
   ],
   "source": [
    "rdd1.collect()"
   ]
  },
  {
   "cell_type": "code",
   "execution_count": 7,
   "id": "classical-little",
   "metadata": {},
   "outputs": [
    {
     "data": {
      "text/plain": [
       "/dataset/shakespeare.txt MapPartitionsRDD[3] at textFile at NativeMethodAccessorImpl.java:0"
      ]
     },
     "execution_count": 7,
     "metadata": {},
     "output_type": "execute_result"
    }
   ],
   "source": [
    "# ②\n",
    "# 从外部存储(文件)创建 RDD\n",
    "# 由外部存储系统的数据集创建 RDD 包括:本地的文件系统，所有 Hadoop 支持的数据集， 比如 HDFS、HBase 等。\n",
    "rdd2 = sc.textFile('/dataset/shakespeare.txt')\n",
    "rdd2"
   ]
  },
  {
   "cell_type": "code",
   "execution_count": 8,
   "id": "remarkable-expression",
   "metadata": {},
   "outputs": [
    {
     "data": {
      "text/plain": [
       "['First Citizen:',\n",
       " 'Before we proceed any further, hear me speak.',\n",
       " '',\n",
       " 'All:',\n",
       " 'Speak, speak.',\n",
       " '',\n",
       " 'First Citizen:',\n",
       " 'You are all resolved rather to die than to famish?',\n",
       " '',\n",
       " 'All:']"
      ]
     },
     "execution_count": 8,
     "metadata": {},
     "output_type": "execute_result"
    }
   ],
   "source": [
    "rdd2.take(10)"
   ]
  },
  {
   "cell_type": "markdown",
   "id": "statewide-alaska",
   "metadata": {},
   "source": [
    "③从其他 RDD 创建\n",
    "主要是通过一个 RDD 运算完后，再产生新的 RDD。详情请参考后续章节\n",
    "\n",
    "④直接创建 RDD\n",
    "一般由 Spark 框架自身使用。"
   ]
  }
 ],
 "metadata": {
  "kernelspec": {
   "display_name": "Python 3",
   "language": "python",
   "name": "python3"
  },
  "language_info": {
   "codemirror_mode": {
    "name": "ipython",
    "version": 3
   },
   "file_extension": ".py",
   "mimetype": "text/x-python",
   "name": "python",
   "nbconvert_exporter": "python",
   "pygments_lexer": "ipython3",
   "version": "3.8.8"
  }
 },
 "nbformat": 4,
 "nbformat_minor": 5
}
