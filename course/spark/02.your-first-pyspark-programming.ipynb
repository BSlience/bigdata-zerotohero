{
 "cells": [
  {
   "cell_type": "markdown",
   "id": "healthy-budget",
   "metadata": {},
   "source": [
    "# Spark 快速上手"
   ]
  },
  {
   "cell_type": "markdown",
   "id": "minimal-rover",
   "metadata": {},
   "source": [
    "## 大数据世界中的 Hello World\n",
    "\n",
    "我们完成一个读取文件中的单词，并且统计单词出现个数的 Spark 程序，这个程序也是我们再大数据世界中的 Hello World。"
   ]
  },
  {
   "cell_type": "code",
   "execution_count": 15,
   "id": "photographic-warrior",
   "metadata": {},
   "outputs": [],
   "source": [
    "# 为了能够让 python 找到 pyspark，使用 findspark\n",
    "import findspark\n",
    "findspark.init()"
   ]
  },
  {
   "cell_type": "code",
   "execution_count": 16,
   "id": "passing-nancy",
   "metadata": {},
   "outputs": [],
   "source": [
    "# 为了使用 RDDs，创建 SparkSession\n",
    "from pyspark.sql import SparkSession\n",
    "from pyspark.conf import SparkConf"
   ]
  },
  {
   "cell_type": "code",
   "execution_count": 18,
   "id": "enhanced-married",
   "metadata": {},
   "outputs": [],
   "source": [
    "# 创建 SparkConf 和 SparkSession\n",
    "conf = SparkConf()\\\n",
    "        .setMaster('local[*]')\\\n",
    "        .setAppName(\"WordCount\")\\\n",
    "        .setExecutorEnv(\"spark.executor.memory\",\"2g\")\\\n",
    "        .setExecutorEnv(\"spark.driver.memory\",\"2g\")\n",
    "\n",
    "spark = SparkSession.builder\\\n",
    "        .config(conf=conf)\\\n",
    "        .getOrCreate()\n",
    "# 获取 SparkContext\n",
    "sc = spark.sparkContext"
   ]
  },
  {
   "cell_type": "code",
   "execution_count": 17,
   "id": "unusual-deficit",
   "metadata": {},
   "outputs": [
    {
     "name": "stdout",
     "output_type": "stream",
     "text": [
      "put: `/dataset/shakespeare.txt': File exists\n"
     ]
    }
   ],
   "source": [
    "!hadoop fs -put data/shakespeare.txt /dataset/shakespeare.txt"
   ]
  },
  {
   "cell_type": "code",
   "execution_count": 19,
   "id": "authentic-mills",
   "metadata": {},
   "outputs": [
    {
     "name": "stdout",
     "output_type": "stream",
     "text": [
      "Found 2 items\n",
      "drwxr-xr-x   - bigdata supergroup          0 2021-04-24 22:24 /dataset/ml-25m\n",
      "-rw-r--r--   3 bigdata supergroup    1115394 2021-05-14 22:23 /dataset/shakespeare.txt\n"
     ]
    }
   ],
   "source": [
    "!hadoop fs -ls /dataset"
   ]
  },
  {
   "cell_type": "code",
   "execution_count": 20,
   "id": "tutorial-minnesota",
   "metadata": {},
   "outputs": [
    {
     "data": {
      "text/plain": [
       "['First Citizen:',\n",
       " 'Before we proceed any further, hear me speak.',\n",
       " '',\n",
       " 'All:',\n",
       " 'Speak, speak.',\n",
       " '',\n",
       " 'First Citizen:',\n",
       " 'You are all resolved rather to die than to famish?',\n",
       " '',\n",
       " 'All:']"
      ]
     },
     "execution_count": 20,
     "metadata": {},
     "output_type": "execute_result"
    }
   ],
   "source": [
    "# 读取莎士比亚文本数据集, 先把 data/shakespeare.txt 文件上传到 hdfs 上\n",
    "shakespeare_path = \"/dataset/shakespeare.txt\"\n",
    "shakespeare_rdd=sc.textFile(shakespeare_path)\n",
    "shakespeare_rdd.take(10)"
   ]
  },
  {
   "cell_type": "code",
   "execution_count": 21,
   "id": "needed-broadcasting",
   "metadata": {},
   "outputs": [
    {
     "data": {
      "text/plain": [
       "40000"
      ]
     },
     "execution_count": 21,
     "metadata": {},
     "output_type": "execute_result"
    }
   ],
   "source": [
    "# 获取数据集的行数\n",
    "shakespeare_rdd.count()"
   ]
  },
  {
   "cell_type": "code",
   "execution_count": 22,
   "id": "needed-mobile",
   "metadata": {},
   "outputs": [],
   "source": [
    "# 移除所有的标点符号\n",
    "# 把所有的单词转换成小写\n",
    "def lower_clean_str(x):\n",
    "    punc='!\"#$%&\\'()*+,./:;<=>?@[\\\\]^_`{|}~-'\n",
    "    lowercased_str = x.lower()\n",
    "    for ch in punc:\n",
    "        lowercased_str = lowercased_str.replace(ch, '')\n",
    "    return lowercased_str"
   ]
  },
  {
   "cell_type": "code",
   "execution_count": 23,
   "id": "hawaiian-message",
   "metadata": {},
   "outputs": [
    {
     "data": {
      "text/plain": [
       "'you are an apple'"
      ]
     },
     "execution_count": 23,
     "metadata": {},
     "output_type": "execute_result"
    }
   ],
   "source": [
    "sentence = 'You are An apple.'\n",
    "lower_clean_str(sentence)"
   ]
  },
  {
   "cell_type": "code",
   "execution_count": 24,
   "id": "acute-electronics",
   "metadata": {},
   "outputs": [
    {
     "data": {
      "text/plain": [
       "['first citizen',\n",
       " 'before we proceed any further hear me speak',\n",
       " '',\n",
       " 'all',\n",
       " 'speak speak',\n",
       " '',\n",
       " 'first citizen',\n",
       " 'you are all resolved rather to die than to famish',\n",
       " '',\n",
       " 'all']"
      ]
     },
     "execution_count": 24,
     "metadata": {},
     "output_type": "execute_result"
    }
   ],
   "source": [
    "# 给文本中的所有行，都执行 lower_clean_str 方法\n",
    "shakespeare_rdd = shakespeare_rdd.map(lower_clean_str)\n",
    "# 读取转换后的数据\n",
    "shakespeare_rdd.take(10)"
   ]
  },
  {
   "cell_type": "code",
   "execution_count": 25,
   "id": "changing-transparency",
   "metadata": {},
   "outputs": [
    {
     "data": {
      "text/plain": [
       "['first',\n",
       " 'citizen',\n",
       " 'before',\n",
       " 'we',\n",
       " 'proceed',\n",
       " 'any',\n",
       " 'further',\n",
       " 'hear',\n",
       " 'me',\n",
       " 'speak',\n",
       " '',\n",
       " 'all',\n",
       " 'speak',\n",
       " 'speak',\n",
       " '']"
      ]
     },
     "execution_count": 25,
     "metadata": {},
     "output_type": "execute_result"
    }
   ],
   "source": [
    "# 使用 split 方法，把每一行中的单词分开（分词），并且把原来一行一行的数据“拉平”\n",
    "shakespeare_rdd = shakespeare_rdd.flatMap(lambda satir: satir.split(\" \"))\n",
    "shakespeare_rdd.take(15)"
   ]
  },
  {
   "cell_type": "code",
   "execution_count": 26,
   "id": "suspended-klein",
   "metadata": {},
   "outputs": [
    {
     "data": {
      "text/plain": [
       "['first',\n",
       " 'citizen',\n",
       " 'before',\n",
       " 'we',\n",
       " 'proceed',\n",
       " 'any',\n",
       " 'further',\n",
       " 'hear',\n",
       " 'me',\n",
       " 'speak',\n",
       " 'all',\n",
       " 'speak',\n",
       " 'speak',\n",
       " 'first',\n",
       " 'citizen']"
      ]
     },
     "execution_count": 26,
     "metadata": {},
     "output_type": "execute_result"
    }
   ],
   "source": [
    "# 使用 filter 方法，把分词后出现的空格符给过滤掉\n",
    "shakespeare_rdd = shakespeare_rdd.filter(lambda x: x!='')\n",
    "shakespeare_rdd.take(15)"
   ]
  },
  {
   "cell_type": "markdown",
   "id": "clinical-ensemble",
   "metadata": {},
   "source": [
    "计算每一个单词出现的次数"
   ]
  },
  {
   "cell_type": "code",
   "execution_count": 27,
   "id": "comfortable-shooting",
   "metadata": {},
   "outputs": [
    {
     "data": {
      "text/plain": [
       "[('first', 1),\n",
       " ('citizen', 1),\n",
       " ('before', 1),\n",
       " ('we', 1),\n",
       " ('proceed', 1),\n",
       " ('any', 1),\n",
       " ('further', 1),\n",
       " ('hear', 1),\n",
       " ('me', 1),\n",
       " ('speak', 1),\n",
       " ('all', 1),\n",
       " ('speak', 1),\n",
       " ('speak', 1),\n",
       " ('first', 1),\n",
       " ('citizen', 1)]"
      ]
     },
     "execution_count": 27,
     "metadata": {},
     "output_type": "execute_result"
    }
   ],
   "source": [
    "# 为了能够统计单词出现的次数，我们需要先把原来的 rdd 转换成 (word, 1) 这样的一对对的 rdd\n",
    "shakespeare_count = shakespeare_rdd.map(lambda  word: (word,1))\n",
    "shakespeare_count.take(15)"
   ]
  },
  {
   "cell_type": "code",
   "execution_count": 14,
   "id": "geographic-institution",
   "metadata": {},
   "outputs": [
    {
     "data": {
      "text/plain": [
       "[('0indexgut', 1),\n",
       " ('1', 308),\n",
       " ('10', 4),\n",
       " ('100', 2),\n",
       " ('10000', 1),\n",
       " ('100000000trillion', 1),\n",
       " ('100th', 1),\n",
       " ('101', 1),\n",
       " ('102', 1),\n",
       " ('103', 1)]"
      ]
     },
     "execution_count": 14,
     "metadata": {},
     "output_type": "execute_result"
    }
   ],
   "source": [
    "# 使用 reduceByKey 来统计出每个单词出现的次数\n",
    "shakespeare_count_rbk = shakespeare_count.reduceByKey(lambda x,y:(x+y)).sortByKey()\n",
    "shakespeare_count_rbk.take(10)"
   ]
  },
  {
   "cell_type": "code",
   "execution_count": 15,
   "id": "environmental-colorado",
   "metadata": {},
   "outputs": [
    {
     "data": {
      "text/plain": [
       "[(1, '0indexgut'),\n",
       " (308, '1'),\n",
       " (4, '10'),\n",
       " (2, '100'),\n",
       " (1, '10000'),\n",
       " (1, '100000000trillion'),\n",
       " (1, '100th'),\n",
       " (1, '101'),\n",
       " (1, '102'),\n",
       " (1, '103'),\n",
       " (1, '104'),\n",
       " (1, '105'),\n",
       " (1, '106'),\n",
       " (1, '107'),\n",
       " (1, '108')]"
      ]
     },
     "execution_count": 15,
     "metadata": {},
     "output_type": "execute_result"
    }
   ],
   "source": [
    "# 为了能够得到使用频次倒序排列的结果，我们要先把 shakespeare_count 转换成 (count, word)\n",
    "shakespeare_count_rbk = shakespeare_count_rbk.map(lambda x:(x[1],x[0]))\n",
    "shakespeare_count_rbk.take(15)"
   ]
  },
  {
   "cell_type": "code",
   "execution_count": 16,
   "id": "functional-canyon",
   "metadata": {},
   "outputs": [
    {
     "data": {
      "text/plain": [
       "[(27643, 'the'),\n",
       " (26728, 'and'),\n",
       " (20681, 'i'),\n",
       " (19198, 'to'),\n",
       " (18173, 'of'),\n",
       " (14613, 'a'),\n",
       " (13649, 'you'),\n",
       " (12480, 'my'),\n",
       " (11121, 'that'),\n",
       " (10967, 'in'),\n",
       " (9598, 'is'),\n",
       " (8725, 'not'),\n",
       " (8244, 'for'),\n",
       " (7996, 'with'),\n",
       " (7768, 'me'),\n",
       " (7690, 'it'),\n",
       " (7090, 'be'),\n",
       " (6882, 'your'),\n",
       " (6857, 'his'),\n",
       " (6847, 'this'),\n",
       " (6270, 'but'),\n",
       " (6251, 'he'),\n",
       " (5958, 'as'),\n",
       " (5887, 'have'),\n",
       " (5485, 'thou'),\n",
       " (5268, 'so'),\n",
       " (5192, 'him'),\n",
       " (4979, 'will'),\n",
       " (4465, 'what'),\n",
       " (4412, 'by'),\n",
       " (4032, 'thy'),\n",
       " (3887, 'all'),\n",
       " (3851, 'are'),\n",
       " (3843, 'her'),\n",
       " (3796, 'no'),\n",
       " (3754, 'do'),\n",
       " (3591, 'shall'),\n",
       " (3503, 'if'),\n",
       " (3306, 'we'),\n",
       " (3178, 'thee'),\n",
       " (3123, 'or'),\n",
       " (3068, 'our'),\n",
       " (3059, 'lord'),\n",
       " (3051, 'on'),\n",
       " (2861, 'king'),\n",
       " (2812, 'good'),\n",
       " (2779, 'now'),\n",
       " (2754, 'sir'),\n",
       " (2646, 'from'),\n",
       " (2608, 'o'),\n",
       " (2509, 'at'),\n",
       " (2507, 'come'),\n",
       " (2471, 'they'),\n",
       " (2462, 'well'),\n",
       " (2316, 'which'),\n",
       " (2295, 'would'),\n",
       " (2291, 'more'),\n",
       " (2229, 'was'),\n",
       " (2222, 'then'),\n",
       " (2208, 'she'),\n",
       " (2168, 'am'),\n",
       " (2160, 'how'),\n",
       " (2114, 'here'),\n",
       " (2099, 'let'),\n",
       " (2098, 'enter'),\n",
       " (2077, 'their'),\n",
       " (2053, 'love'),\n",
       " (2051, 'when'),\n",
       " (1980, 'them'),\n",
       " (1972, 'ill'),\n",
       " (1941, 'hath'),\n",
       " (1881, 'than'),\n",
       " (1865, 'may'),\n",
       " (1836, 'an'),\n",
       " (1835, 'man'),\n",
       " (1808, 'there'),\n",
       " (1787, 'one'),\n",
       " (1734, 'go'),\n",
       " (1731, 'upon'),\n",
       " (1703, 'like'),\n",
       " (1680, 'say'),\n",
       " (1647, 'know'),\n",
       " (1629, 'make'),\n",
       " (1626, 'did'),\n",
       " (1622, 'us'),\n",
       " (1615, 'such'),\n",
       " (1577, 'were'),\n",
       " (1576, 'should'),\n",
       " (1569, 'yet'),\n",
       " (1492, 'must'),\n",
       " (1465, 'why'),\n",
       " (1440, 'see'),\n",
       " (1427, 'had'),\n",
       " (1405, 'tis'),\n",
       " (1376, 'out'),\n",
       " (1338, 'some'),\n",
       " (1333, 'give'),\n",
       " (1324, 'these'),\n",
       " (1270, 'time'),\n",
       " (1233, 'too')]"
      ]
     },
     "execution_count": 16,
     "metadata": {},
     "output_type": "execute_result"
    }
   ],
   "source": [
    "# 使用 sortByKey 来获取 key 的倒序结果\n",
    "shakespeare_count_rbk.sortByKey(False).take(100)"
   ]
  },
  {
   "cell_type": "markdown",
   "id": "married-slope",
   "metadata": {},
   "source": [
    "看到这里，你应该能够得到想要的对于单词的统计结果了。但是，你可能还有很多的疑惑~没关系，接下来，我们就来一层层的剥开这些程序神秘的面纱，看看它到底是这样工作的。"
   ]
  }
 ],
 "metadata": {
  "kernelspec": {
   "display_name": "Python 3",
   "language": "python",
   "name": "python3"
  },
  "language_info": {
   "codemirror_mode": {
    "name": "ipython",
    "version": 3
   },
   "file_extension": ".py",
   "mimetype": "text/x-python",
   "name": "python",
   "nbconvert_exporter": "python",
   "pygments_lexer": "ipython3",
   "version": "3.8.8"
  }
 },
 "nbformat": 4,
 "nbformat_minor": 5
}
